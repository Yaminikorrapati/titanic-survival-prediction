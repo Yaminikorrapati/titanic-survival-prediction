{
 "cells": [
  {
   "cell_type": "code",
   "execution_count": 2,
   "id": "dc8326a2",
   "metadata": {},
   "outputs": [
    {
     "name": "stdout",
     "output_type": "stream",
     "text": [
      "Training set size: (334, 11)\n",
      "Validation set size: (84, 11)\n"
     ]
    }
   ],
   "source": [
    "from sklearn.model_selection import train_test_split\n",
    "import pandas as pd\n",
    "# Load dataset\n",
    "train_data = pd.read_csv(\"train.csv\")\n",
    "\n",
    "# Select features and target\n",
    "X = train_data.drop(columns=[\"Survived\"])  # Features\n",
    "y = train_data[\"Survived\"]  # Target\n",
    "\n",
    "# Split the data (80% training, 20% validation)\n",
    "X_train, X_test, y_train, y_test = train_test_split(X, y, test_size=0.2, random_state=42)\n",
    "\n",
    "print(\"Training set size:\", X_train.shape)\n",
    "print(\"Validation set size:\", X_test.shape)"
   ]
  }
 ],
 "metadata": {
  "kernelspec": {
   "display_name": "Python 3 (ipykernel)",
   "language": "python",
   "name": "python3"
  },
  "language_info": {
   "codemirror_mode": {
    "name": "ipython",
    "version": 3
   },
   "file_extension": ".py",
   "mimetype": "text/x-python",
   "name": "python",
   "nbconvert_exporter": "python",
   "pygments_lexer": "ipython3",
   "version": "3.11.5"
  }
 },
 "nbformat": 4,
 "nbformat_minor": 5
}
